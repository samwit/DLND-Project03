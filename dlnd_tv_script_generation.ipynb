{
 "cells": [
  {
   "cell_type": "markdown",
   "metadata": {},
   "source": [
    "# TV Script Generation\n",
    "In this project, you'll generate your own [Simpsons](https://en.wikipedia.org/wiki/The_Simpsons) TV scripts using RNNs.  You'll be using part of the [Simpsons dataset](https://www.kaggle.com/wcukierski/the-simpsons-by-the-data) of scripts from 27 seasons.  The Neural Network you'll build will generate a new TV script for a scene at [Moe's Tavern](https://simpsonswiki.com/wiki/Moe's_Tavern).\n",
    "## Get the Data\n",
    "The data is already provided for you.  You'll be using a subset of the original dataset.  It consists of only the scenes in Moe's Tavern.  This doesn't include other versions of the tavern, like \"Moe's Cavern\", \"Flaming Moe's\", \"Uncle Moe's Family Feed-Bag\", etc.."
   ]
  },
  {
   "cell_type": "code",
   "execution_count": 5,
   "metadata": {
    "collapsed": true
   },
   "outputs": [],
   "source": [
    "\"\"\"\n",
    "DON'T MODIFY ANYTHING IN THIS CELL\n",
    "\"\"\"\n",
    "import helper\n",
    "\n",
    "data_dir = './data/simpsons/moes_tavern_lines.txt'\n",
    "text = helper.load_data(data_dir)\n",
    "# Ignore notice, since we don't use it for analysing the data\n",
    "text = text[81:]"
   ]
  },
  {
   "cell_type": "markdown",
   "metadata": {},
   "source": [
    "## Explore the Data\n",
    "Play around with `view_sentence_range` to view different parts of the data."
   ]
  },
  {
   "cell_type": "code",
   "execution_count": 6,
   "metadata": {},
   "outputs": [
    {
     "name": "stdout",
     "output_type": "stream",
     "text": [
      "Dataset Stats\n",
      "Roughly the number of unique words: 11492\n",
      "Number of scenes: 262\n",
      "Average number of sentences in each scene: 15.248091603053435\n",
      "Number of lines: 4257\n",
      "Average number of words in each line: 11.50434578341555\n",
      "\n",
      "The sentences 0 to 10:\n",
      "Moe_Szyslak: (INTO PHONE) Moe's Tavern. Where the elite meet to drink.\n",
      "Bart_Simpson: Eh, yeah, hello, is Mike there? Last name, Rotch.\n",
      "Moe_Szyslak: (INTO PHONE) Hold on, I'll check. (TO BARFLIES) Mike Rotch. Mike Rotch. Hey, has anybody seen Mike Rotch, lately?\n",
      "Moe_Szyslak: (INTO PHONE) Listen you little puke. One of these days I'm gonna catch you, and I'm gonna carve my name on your back with an ice pick.\n",
      "Moe_Szyslak: What's the matter Homer? You're not your normal effervescent self.\n",
      "Homer_Simpson: I got my problems, Moe. Give me another one.\n",
      "Moe_Szyslak: Homer, hey, you should not drink to forget your problems.\n",
      "Barney_Gumble: Yeah, you should only drink to enhance your social skills.\n",
      "\n",
      "\n"
     ]
    }
   ],
   "source": [
    "view_sentence_range = (0, 10)\n",
    "\n",
    "\"\"\"\n",
    "DON'T MODIFY ANYTHING IN THIS CELL\n",
    "\"\"\"\n",
    "import numpy as np\n",
    "\n",
    "print('Dataset Stats')\n",
    "print('Roughly the number of unique words: {}'.format(len({word: None for word in text.split()})))\n",
    "scenes = text.split('\\n\\n')\n",
    "print('Number of scenes: {}'.format(len(scenes)))\n",
    "sentence_count_scene = [scene.count('\\n') for scene in scenes]\n",
    "print('Average number of sentences in each scene: {}'.format(np.average(sentence_count_scene)))\n",
    "\n",
    "sentences = [sentence for scene in scenes for sentence in scene.split('\\n')]\n",
    "print('Number of lines: {}'.format(len(sentences)))\n",
    "word_count_sentence = [len(sentence.split()) for sentence in sentences]\n",
    "print('Average number of words in each line: {}'.format(np.average(word_count_sentence)))\n",
    "\n",
    "print()\n",
    "print('The sentences {} to {}:'.format(*view_sentence_range))\n",
    "print('\\n'.join(text.split('\\n')[view_sentence_range[0]:view_sentence_range[1]]))"
   ]
  },
  {
   "cell_type": "markdown",
   "metadata": {},
   "source": [
    "## Implement Preprocessing Functions\n",
    "The first thing to do to any dataset is preprocessing.  Implement the following preprocessing functions below:\n",
    "- Lookup Table\n",
    "- Tokenize Punctuation\n",
    "\n",
    "### Lookup Table\n",
    "To create a word embedding, you first need to transform the words to ids.  In this function, create two dictionaries:\n",
    "- Dictionary to go from the words to an id, we'll call `vocab_to_int`\n",
    "- Dictionary to go from the id to word, we'll call `int_to_vocab`\n",
    "\n",
    "Return these dictionaries in the following tuple `(vocab_to_int, int_to_vocab)`"
   ]
  },
  {
   "cell_type": "code",
   "execution_count": 7,
   "metadata": {},
   "outputs": [
    {
     "data": {
      "text/plain": [
       "['the',\n",
       " 'i',\n",
       " 'moe_szyslak:',\n",
       " 'you',\n",
       " 'a',\n",
       " 'homer_simpson:',\n",
       " 'to',\n",
       " 'and',\n",
       " 'of',\n",
       " 'my']"
      ]
     },
     "execution_count": 7,
     "metadata": {},
     "output_type": "execute_result"
    }
   ],
   "source": [
    "#sam added cell for looking at data\n",
    "from collections import Counter\n",
    "text2 = text.lower()\n",
    "text2 = text2.split()\n",
    "text[:100]\n",
    "counts = Counter(text2)\n",
    "vocab = sorted(counts, key=counts.get, reverse=True)\n",
    "vocab[:10]"
   ]
  },
  {
   "cell_type": "code",
   "execution_count": 8,
   "metadata": {},
   "outputs": [
    {
     "name": "stdout",
     "output_type": "stream",
     "text": [
      "Tests Passed\n"
     ]
    }
   ],
   "source": [
    "import numpy as np\n",
    "import problem_unittests as tests\n",
    "from collections import Counter\n",
    "\n",
    "def create_lookup_tables(text):\n",
    "    \"\"\"\n",
    "    Create lookup tables for vocabulary\n",
    "    :param text: The text of tv scripts split into words\n",
    "    :return: A tuple of dicts (vocab_to_int, int_to_vocab)\n",
    "    \"\"\"\n",
    "    # TODO: Implement Function\n",
    "    vocab_to_int = {}\n",
    "    int_to_vocab = {}\n",
    "    counts = Counter(text)\n",
    "    vocab = sorted(counts, key=counts.get, reverse=True)\n",
    "    vocab_to_int = {word: ii for ii, word in enumerate(vocab)}\n",
    "    int_to_vocab = {v:k for k, v in vocab_to_int.items()}\n",
    "    return vocab_to_int, int_to_vocab\n",
    "\n",
    "\n",
    "\"\"\"\n",
    "DON'T MODIFY ANYTHING IN THIS CELL THAT IS BELOW THIS LINE\n",
    "\"\"\"\n",
    "tests.test_create_lookup_tables(create_lookup_tables)"
   ]
  },
  {
   "cell_type": "code",
   "execution_count": 9,
   "metadata": {},
   "outputs": [
    {
     "data": {
      "text/plain": [
       "'t'"
      ]
     },
     "execution_count": 9,
     "metadata": {},
     "output_type": "execute_result"
    }
   ],
   "source": [
    "vocab_to_int,int_to_vocab = create_lookup_tables(text)\n",
    "\n",
    "int_to_vocab[4]"
   ]
  },
  {
   "cell_type": "markdown",
   "metadata": {},
   "source": [
    "### Tokenize Punctuation\n",
    "We'll be splitting the script into a word array using spaces as delimiters.  However, punctuations like periods and exclamation marks make it hard for the neural network to distinguish between the word \"bye\" and \"bye!\".\n",
    "\n",
    "Implement the function `token_lookup` to return a dict that will be used to tokenize symbols like \"!\" into \"||Exclamation_Mark||\".  Create a dictionary for the following symbols where the symbol is the key and value is the token:\n",
    "- Period ( . )\n",
    "- Comma ( , )\n",
    "- Quotation Mark ( \" )\n",
    "- Semicolon ( ; )\n",
    "- Exclamation mark ( ! )\n",
    "- Question mark ( ? )\n",
    "- Left Parentheses ( ( )\n",
    "- Right Parentheses ( ) )\n",
    "- Dash ( -- )\n",
    "- Return ( \\n )\n",
    "\n",
    "This dictionary will be used to token the symbols and add the delimiter (space) around it.  This separates the symbols as it's own word, making it easier for the neural network to predict on the next word. Make sure you don't use a token that could be confused as a word. Instead of using the token \"dash\", try using something like \"||dash||\"."
   ]
  },
  {
   "cell_type": "code",
   "execution_count": 10,
   "metadata": {},
   "outputs": [
    {
     "name": "stdout",
     "output_type": "stream",
     "text": [
      "Tests Passed\n"
     ]
    }
   ],
   "source": [
    "def token_lookup():\n",
    "    \"\"\"\n",
    "    Generate a dict to turn punctuation into a token.\n",
    "    :return: Tokenize dictionary where the key is the punctuation and the value is the token\n",
    "    \"\"\"\n",
    "    # TODO: Implement Function\n",
    "    punc_dict = {\n",
    "        '.': '||period||',\n",
    "        ',': '||comma||',\n",
    "        '\"': '||quotation_mark||',\n",
    "        ';': '||semicolon||',\n",
    "        '!': '||exclamation_mark||',\n",
    "        '?': '||question_mark||',\n",
    "        '(': '||left_parentheses||',\n",
    "        ')': '||right_parentheses||',\n",
    "        '--': '||dash||',\n",
    "        \"\\n\": '||line_return||'\n",
    "        }\n",
    "\n",
    "    return punc_dict\n",
    "\n",
    "\"\"\"\n",
    "DON'T MODIFY ANYTHING IN THIS CELL THAT IS BELOW THIS LINE\n",
    "\"\"\"\n",
    "tests.test_tokenize(token_lookup)"
   ]
  },
  {
   "cell_type": "markdown",
   "metadata": {},
   "source": [
    "## Preprocess all the data and save it\n",
    "Running the code cell below will preprocess all the data and save it to file."
   ]
  },
  {
   "cell_type": "code",
   "execution_count": 11,
   "metadata": {
    "collapsed": true
   },
   "outputs": [],
   "source": [
    "\"\"\"\n",
    "DON'T MODIFY ANYTHING IN THIS CELL\n",
    "\"\"\"\n",
    "# Preprocess Training, Validation, and Testing Data\n",
    "helper.preprocess_and_save_data(data_dir, token_lookup, create_lookup_tables)"
   ]
  },
  {
   "cell_type": "markdown",
   "metadata": {},
   "source": [
    "# Check Point\n",
    "This is your first checkpoint. If you ever decide to come back to this notebook or have to restart the notebook, you can start from here. The preprocessed data has been saved to disk."
   ]
  },
  {
   "cell_type": "code",
   "execution_count": 8,
   "metadata": {
    "collapsed": true
   },
   "outputs": [],
   "source": [
    "\"\"\"\n",
    "DON'T MODIFY ANYTHING IN THIS CELL\n",
    "\"\"\"\n",
    "import helper\n",
    "import numpy as np\n",
    "import problem_unittests as tests\n",
    "\n",
    "int_text, vocab_to_int, int_to_vocab, token_dict = helper.load_preprocess()"
   ]
  },
  {
   "cell_type": "code",
   "execution_count": 9,
   "metadata": {},
   "outputs": [
    {
     "data": {
      "text/plain": [
       "'that'"
      ]
     },
     "execution_count": 9,
     "metadata": {},
     "output_type": "execute_result"
    }
   ],
   "source": [
    "int_to_vocab[18]"
   ]
  },
  {
   "cell_type": "markdown",
   "metadata": {},
   "source": [
    "## Build the Neural Network\n",
    "You'll build the components necessary to build a RNN by implementing the following functions below:\n",
    "- get_inputs\n",
    "- get_init_cell\n",
    "- get_embed\n",
    "- build_rnn\n",
    "- build_nn\n",
    "- get_batches\n",
    "\n",
    "### Check the Version of TensorFlow and Access to GPU"
   ]
  },
  {
   "cell_type": "code",
   "execution_count": 10,
   "metadata": {},
   "outputs": [
    {
     "name": "stdout",
     "output_type": "stream",
     "text": [
      "TensorFlow Version: 1.0.1\n"
     ]
    },
    {
     "name": "stderr",
     "output_type": "stream",
     "text": [
      "/home/samwit/anaconda3/envs/tf101/lib/python3.5/site-packages/ipykernel/__main__.py:14: UserWarning: No GPU found. Please use a GPU to train your neural network.\n"
     ]
    }
   ],
   "source": [
    "\"\"\"\n",
    "DON'T MODIFY ANYTHING IN THIS CELL\n",
    "\"\"\"\n",
    "from distutils.version import LooseVersion\n",
    "import warnings\n",
    "import tensorflow as tf\n",
    "\n",
    "# Check TensorFlow Version\n",
    "assert LooseVersion(tf.__version__) >= LooseVersion('1.0'), 'Please use TensorFlow version 1.0 or newer'\n",
    "print('TensorFlow Version: {}'.format(tf.__version__))\n",
    "\n",
    "# Check for a GPU\n",
    "if not tf.test.gpu_device_name():\n",
    "    warnings.warn('No GPU found. Please use a GPU to train your neural network.')\n",
    "else:\n",
    "    print('Default GPU Device: {}'.format(tf.test.gpu_device_name()))"
   ]
  },
  {
   "cell_type": "markdown",
   "metadata": {},
   "source": [
    "### Input\n",
    "Implement the `get_inputs()` function to create TF Placeholders for the Neural Network.  It should create the following placeholders:\n",
    "- Input text placeholder named \"input\" using the [TF Placeholder](https://www.tensorflow.org/api_docs/python/tf/placeholder) `name` parameter.\n",
    "- Targets placeholder\n",
    "- Learning Rate placeholder\n",
    "\n",
    "Return the placeholders in the following tuple `(Input, Targets, LearningRate)`"
   ]
  },
  {
   "cell_type": "code",
   "execution_count": 11,
   "metadata": {},
   "outputs": [
    {
     "name": "stdout",
     "output_type": "stream",
     "text": [
      "Tests Passed\n"
     ]
    }
   ],
   "source": [
    "def get_inputs():\n",
    "    \"\"\"\n",
    "    Create TF Placeholders for input, targets, and learning rate.\n",
    "    :return: Tuple (input, targets, learning rate)\n",
    "    \"\"\"\n",
    "    # TODO: Implement Function\n",
    "    inp = tf.placeholder(tf.int32, [None, None], name=\"input\")\n",
    "    targets = tf.placeholder(tf.int32, [None, None], name=\"targets\")\n",
    "    lr = tf.placeholder(tf.float32, name=\"learning_rate\")\n",
    "    return inp, targets, lr\n",
    "\n",
    "\n",
    "\"\"\"\n",
    "DON'T MODIFY ANYTHING IN THIS CELL THAT IS BELOW THIS LINE\n",
    "\"\"\"\n",
    "tests.test_get_inputs(get_inputs)"
   ]
  },
  {
   "cell_type": "markdown",
   "metadata": {},
   "source": [
    "### Build RNN Cell and Initialize\n",
    "Stack one or more [`BasicLSTMCells`](https://www.tensorflow.org/api_docs/python/tf/contrib/rnn/BasicLSTMCell) in a [`MultiRNNCell`](https://www.tensorflow.org/api_docs/python/tf/contrib/rnn/MultiRNNCell).\n",
    "- The Rnn size should be set using `rnn_size`\n",
    "- Initalize Cell State using the MultiRNNCell's [`zero_state()`](https://www.tensorflow.org/api_docs/python/tf/contrib/rnn/MultiRNNCell#zero_state) function\n",
    "    - Apply the name \"initial_state\" to the initial state using [`tf.identity()`](https://www.tensorflow.org/api_docs/python/tf/identity)\n",
    "\n",
    "Return the cell and initial state in the following tuple `(Cell, InitialState)`"
   ]
  },
  {
   "cell_type": "code",
   "execution_count": 12,
   "metadata": {},
   "outputs": [
    {
     "name": "stdout",
     "output_type": "stream",
     "text": [
      "Tests Passed\n"
     ]
    }
   ],
   "source": [
    "def get_init_cell(batch_size, rnn_size):\n",
    "    \"\"\"\n",
    "    Create an RNN Cell and initialize it.\n",
    "    :param batch_size: Size of batches\n",
    "    :param rnn_size: Size of RNNs\n",
    "    :return: Tuple (cell, initialize state)\n",
    "    \"\"\"\n",
    "    # basic LSTM\n",
    "    lstm = tf.contrib.rnn.BasicLSTMCell(rnn_size)\n",
    "    #\n",
    "    cell = tf.contrib.rnn.MultiRNNCell([lstm])\n",
    "    \n",
    "    init_state = cell.zero_state(batch_size, tf.float32)\n",
    "    init_state = tf.identity(init_state, \"initial_state\") \n",
    "    \n",
    "    return cell, init_state\n",
    "\n",
    "\n",
    "\"\"\"\n",
    "DON'T MODIFY ANYTHING IN THIS CELL THAT IS BELOW THIS LINE\n",
    "\"\"\"\n",
    "tests.test_get_init_cell(get_init_cell)"
   ]
  },
  {
   "cell_type": "markdown",
   "metadata": {},
   "source": [
    "### Word Embedding\n",
    "Apply embedding to `input_data` using TensorFlow.  Return the embedded sequence."
   ]
  },
  {
   "cell_type": "code",
   "execution_count": 13,
   "metadata": {},
   "outputs": [
    {
     "name": "stdout",
     "output_type": "stream",
     "text": [
      "Tests Passed\n"
     ]
    }
   ],
   "source": [
    "def get_embed(input_data, vocab_size, embed_dim):\n",
    "    \"\"\"\n",
    "    Create embedding for <input_data>.\n",
    "    :param input_data: TF placeholder for text input.\n",
    "    :param vocab_size: Number of words in vocabulary.\n",
    "    :param embed_dim: Number of embedding dimensions\n",
    "    :return: Embedded input.\n",
    "    \"\"\"\n",
    "    # TODO: Implement Function\n",
    "    embeddings = tf.Variable(tf.random_uniform((vocab_size, embed_dim), -1, 1))\n",
    "    lookup = tf.nn.embedding_lookup(embeddings, input_data)\n",
    "    return lookup\n",
    "\n",
    "\n",
    "\"\"\"\n",
    "DON'T MODIFY ANYTHING IN THIS CELL THAT IS BELOW THIS LINE\n",
    "\"\"\"\n",
    "tests.test_get_embed(get_embed)"
   ]
  },
  {
   "cell_type": "code",
   "execution_count": 14,
   "metadata": {},
   "outputs": [
    {
     "ename": "TypeError",
     "evalue": "get_embed() missing 3 required positional arguments: 'input_data', 'vocab_size', and 'embed_dim'",
     "output_type": "error",
     "traceback": [
      "\u001b[0;31m---------------------------------------------------------------------------\u001b[0m",
      "\u001b[0;31mTypeError\u001b[0m                                 Traceback (most recent call last)",
      "\u001b[0;32m<ipython-input-14-eb0c99a66cad>\u001b[0m in \u001b[0;36m<module>\u001b[0;34m()\u001b[0m\n\u001b[0;32m----> 1\u001b[0;31m \u001b[0mtest_embed\u001b[0m \u001b[0;34m=\u001b[0m \u001b[0mget_embed\u001b[0m\u001b[0;34m(\u001b[0m\u001b[0;34m)\u001b[0m\u001b[0;34m\u001b[0m\u001b[0m\n\u001b[0m",
      "\u001b[0;31mTypeError\u001b[0m: get_embed() missing 3 required positional arguments: 'input_data', 'vocab_size', and 'embed_dim'"
     ]
    }
   ],
   "source": [
    "test_embed = get_embed()"
   ]
  },
  {
   "cell_type": "markdown",
   "metadata": {},
   "source": [
    "### Build RNN\n",
    "You created a RNN Cell in the `get_init_cell()` function.  Time to use the cell to create a RNN.\n",
    "- Build the RNN using the [`tf.nn.dynamic_rnn()`](https://www.tensorflow.org/api_docs/python/tf/nn/dynamic_rnn)\n",
    " - Apply the name \"final_state\" to the final state using [`tf.identity()`](https://www.tensorflow.org/api_docs/python/tf/identity)\n",
    "\n",
    "Return the outputs and final_state state in the following tuple `(Outputs, FinalState)` "
   ]
  },
  {
   "cell_type": "code",
   "execution_count": 15,
   "metadata": {},
   "outputs": [
    {
     "name": "stdout",
     "output_type": "stream",
     "text": [
      "Tests Passed\n"
     ]
    }
   ],
   "source": [
    "def build_rnn(cell, inputs):\n",
    "    \"\"\"\n",
    "    Create a RNN using a RNN Cell\n",
    "    :param cell: RNN Cell\n",
    "    :param inputs: Input text data\n",
    "    :return: Tuple (Outputs, Final State)\n",
    "    \"\"\"\n",
    "    # TODO: Implement Function\n",
    "    outputs, final_state = tf.nn.dynamic_rnn(cell, inputs, dtype=tf.float32)\n",
    "    final_state = tf.identity(final_state, \"final_state\")\n",
    "    return outputs, final_state\n",
    "\n",
    "\n",
    "\"\"\"\n",
    "DON'T MODIFY ANYTHING IN THIS CELL THAT IS BELOW THIS LINE\n",
    "\"\"\"\n",
    "tests.test_build_rnn(build_rnn)"
   ]
  },
  {
   "cell_type": "markdown",
   "metadata": {},
   "source": [
    "### Build the Neural Network\n",
    "Apply the functions you implemented above to:\n",
    "- Apply embedding to `input_data` using your `get_embed(input_data, vocab_size, embed_dim)` function.\n",
    "- Build RNN using `cell` and your `build_rnn(cell, inputs)` function.\n",
    "- Apply a fully connected layer with a linear activation and `vocab_size` as the number of outputs.\n",
    "\n",
    "Return the logits and final state in the following tuple (Logits, FinalState) "
   ]
  },
  {
   "cell_type": "code",
   "execution_count": 16,
   "metadata": {},
   "outputs": [
    {
     "name": "stdout",
     "output_type": "stream",
     "text": [
      "Tests Passed\n"
     ]
    }
   ],
   "source": [
    "def build_nn(cell, rnn_size, input_data, vocab_size, embed_dim):\n",
    "    \"\"\"\n",
    "    Build part of the neural network\n",
    "    :param cell: RNN cell\n",
    "    :param rnn_size: Size of rnns\n",
    "    :param input_data: Input data\n",
    "    :param vocab_size: Vocabulary size\n",
    "    :param embed_dim: Number of embedding dimensions\n",
    "    :return: Tuple (Logits, FinalState)\n",
    "    \"\"\"\n",
    "    # TODO: Implement Function\n",
    "    embedded = get_embed(input_data, vocab_size, rnn_size)\n",
    "    outputs, final_state = build_rnn(cell, embedded)\n",
    "    logits = tf.contrib.layers.fully_connected(\n",
    "        inputs = outputs,\\\n",
    "        num_outputs = vocab_size,\\\n",
    "        activation_fn = None,\\\n",
    "        weights_initializer=tf.truncated_normal_initializer(stddev= 0.1),\\\n",
    "        biases_initializer=tf.zeros_initializer())\n",
    "\n",
    "    return logits, final_state\n",
    "\n",
    "\n",
    "\"\"\"\n",
    "DON'T MODIFY ANYTHING IN THIS CELL THAT IS BELOW THIS LINE\n",
    "\"\"\"\n",
    "tests.test_build_nn(build_nn)"
   ]
  },
  {
   "cell_type": "markdown",
   "metadata": {},
   "source": [
    "### Batches\n",
    "Implement `get_batches` to create batches of input and targets using `int_text`.  The batches should be a Numpy array with the shape `(number of batches, 2, batch size, sequence length)`. Each batch contains two elements:\n",
    "- The first element is a single batch of **input** with the shape `[batch size, sequence length]`\n",
    "- The second element is a single batch of **targets** with the shape `[batch size, sequence length]`\n",
    "\n",
    "If you can't fill the last batch with enough data, drop the last batch.\n",
    "\n",
    "For exmple, `get_batches([1, 2, 3, 4, 5, 6, 7, 8, 9, 10, 11, 12, 13, 14, 15], 2, 3)` would return a Numpy array of the following:\n",
    "```\n",
    "[\n",
    "  # First Batch\n",
    "  [\n",
    "    # Batch of Input\n",
    "    [[ 1  2  3], [ 7  8  9]],\n",
    "    # Batch of targets\n",
    "    [[ 2  3  4], [ 8  9 10]]\n",
    "  ],\n",
    " \n",
    "  # Second Batch\n",
    "  [\n",
    "    # Batch of Input\n",
    "    [[ 4  5  6], [10 11 12]],\n",
    "    # Batch of targets\n",
    "    [[ 5  6  7], [11 12 13]]\n",
    "  ]\n",
    "]\n",
    "```"
   ]
  },
  {
   "cell_type": "code",
   "execution_count": 17,
   "metadata": {},
   "outputs": [
    {
     "name": "stdout",
     "output_type": "stream",
     "text": [
      "Tests Passed\n"
     ]
    }
   ],
   "source": [
    "def get_batches(int_text, batch_size, seq_length):\n",
    "    \"\"\"\n",
    "    Return batches of input and target\n",
    "    :param int_text: Text with the words replaced by their ids\n",
    "    :param batch_size: The size of batch\n",
    "    :param seq_length: The length of sequence\n",
    "    :return: Batches as a Numpy array\n",
    "    \"\"\"\n",
    "    # TODO: Implement Function\n",
    "    n_batches = (len(int_text) - 1) // (batch_size * seq_length)\n",
    "\n",
    "    batches = np.zeros((n_batches, 2, batch_size, seq_length))\n",
    "    for b in range(n_batches):\n",
    "        for j in range(batch_size):\n",
    "            batches[b][0][j] = int_text[seq_length*(n_batches*j+b)   : seq_length*(n_batches*j+b+1)]\n",
    "            batches[b][1][j] = int_text[seq_length*(n_batches*j+b)+1 : seq_length*(n_batches*j+b+1)+1]\n",
    "    \n",
    "    return batches\n",
    "\n",
    "\n",
    "\"\"\"\n",
    "DON'T MODIFY ANYTHING IN THIS CELL THAT IS BELOW THIS LINE\n",
    "\"\"\"\n",
    "tests.test_get_batches(get_batches)"
   ]
  },
  {
   "cell_type": "markdown",
   "metadata": {},
   "source": [
    "## Neural Network Training\n",
    "### Hyperparameters\n",
    "Tune the following parameters:\n",
    "\n",
    "- Set `num_epochs` to the number of epochs.\n",
    "- Set `batch_size` to the batch size.\n",
    "- Set `rnn_size` to the size of the RNNs.\n",
    "- Set `embed_dim` to the size of the embedding.\n",
    "- Set `seq_length` to the length of sequence.\n",
    "- Set `learning_rate` to the learning rate.\n",
    "- Set `show_every_n_batches` to the number of batches the neural network should print progress."
   ]
  },
  {
   "cell_type": "code",
   "execution_count": 18,
   "metadata": {
    "collapsed": true
   },
   "outputs": [],
   "source": [
    "# Number of Epochs\n",
    "num_epochs = 200\n",
    "# Batch Size\n",
    "batch_size = 256\n",
    "# RNN Size\n",
    "rnn_size = 256\n",
    "# Embedding Dimension Size\n",
    "embed_dim = 30\n",
    "# Sequence Length\n",
    "seq_length = 16\n",
    "# Learning Rate\n",
    "learning_rate = 0.01\n",
    "# Show stats for every n number of batches\n",
    "show_every_n_batches = 10\n",
    "\n",
    "\"\"\"\n",
    "DON'T MODIFY ANYTHING IN THIS CELL THAT IS BELOW THIS LINE\n",
    "\"\"\"\n",
    "save_dir = './save'"
   ]
  },
  {
   "cell_type": "code",
   "execution_count": 19,
   "metadata": {},
   "outputs": [
    {
     "data": {
      "text/plain": [
       "<tf.Tensor 'embedding_lookup:0' shape=(69100, 30) dtype=float32>"
      ]
     },
     "execution_count": 19,
     "metadata": {},
     "output_type": "execute_result"
    }
   ],
   "source": [
    "#test the embedding\n",
    "embed_dim = 30\n",
    "vocab_size = len(int_to_vocab)\n",
    "input_data = int_text\n",
    "embeddings = get_embed(input_data, vocab_size, embed_dim)\n",
    "\n",
    "embeddings"
   ]
  },
  {
   "cell_type": "code",
   "execution_count": 20,
   "metadata": {},
   "outputs": [
    {
     "data": {
      "text/plain": [
       "array([ 0.5357306 , -0.71842504,  0.771698  ,  0.04671764, -0.15252614,\n",
       "        0.25814152,  0.08481908,  0.28768587,  0.93021011,  0.50921059,\n",
       "        0.94045806, -0.64540434, -0.77943492,  0.94015098,  0.78855872,\n",
       "        0.80228186,  0.60557055, -0.72253799,  0.16843534, -0.23564744,\n",
       "       -0.3294971 , -0.98319316, -0.39420438, -0.9256041 ,  0.55254245,\n",
       "        0.24309015,  0.6558609 ,  0.99838686, -0.7506144 ,  0.36313939], dtype=float32)"
      ]
     },
     "execution_count": 20,
     "metadata": {},
     "output_type": "execute_result"
    }
   ],
   "source": [
    "temp_embed = []\n",
    "with tf.Session() as sess:\n",
    "    sess.run(tf.global_variables_initializer())\n",
    "    temp_embed = tf.nn.embedding_lookup(embeddings,tf.constant(1)).eval()\n",
    "    tf.Print(embeddings,[0,1])\n",
    "    \n",
    "temp_embed"
   ]
  },
  {
   "cell_type": "markdown",
   "metadata": {},
   "source": [
    "### Build the Graph\n",
    "Build the graph using the neural network you implemented."
   ]
  },
  {
   "cell_type": "code",
   "execution_count": 21,
   "metadata": {
    "collapsed": true
   },
   "outputs": [],
   "source": [
    "\"\"\"\n",
    "DON'T MODIFY ANYTHING IN THIS CELL\n",
    "\"\"\"\n",
    "from tensorflow.contrib import seq2seq\n",
    "\n",
    "train_graph = tf.Graph()\n",
    "with train_graph.as_default():\n",
    "    vocab_size = len(int_to_vocab)\n",
    "    input_text, targets, lr = get_inputs()\n",
    "    input_data_shape = tf.shape(input_text)\n",
    "    cell, initial_state = get_init_cell(input_data_shape[0], rnn_size)\n",
    "    logits, final_state = build_nn(cell, rnn_size, input_text, vocab_size, embed_dim)\n",
    "\n",
    "    # Probabilities for generating words\n",
    "    probs = tf.nn.softmax(logits, name='probs')\n",
    "\n",
    "    # Loss function\n",
    "    cost = seq2seq.sequence_loss(\n",
    "        logits,\n",
    "        targets,\n",
    "        tf.ones([input_data_shape[0], input_data_shape[1]]))\n",
    "\n",
    "    # Optimizer\n",
    "    optimizer = tf.train.AdamOptimizer(lr)\n",
    "\n",
    "    # Gradient Clipping\n",
    "    gradients = optimizer.compute_gradients(cost)\n",
    "    capped_gradients = [(tf.clip_by_value(grad, -1., 1.), var) for grad, var in gradients if grad is not None]\n",
    "    train_op = optimizer.apply_gradients(capped_gradients)"
   ]
  },
  {
   "cell_type": "markdown",
   "metadata": {},
   "source": [
    "## Train\n",
    "Train the neural network on the preprocessed data.  If you have a hard time getting a good loss, check the [forms](https://discussions.udacity.com/) to see if anyone is having the same problem."
   ]
  },
  {
   "cell_type": "code",
   "execution_count": 22,
   "metadata": {},
   "outputs": [
    {
     "name": "stdout",
     "output_type": "stream",
     "text": [
      "Epoch   0 Batch    0/16   train_loss = 8.822\n",
      "Epoch   0 Batch   10/16   train_loss = 5.721\n",
      "Epoch   1 Batch    4/16   train_loss = 5.043\n",
      "Epoch   1 Batch   14/16   train_loss = 4.757\n",
      "Epoch   2 Batch    8/16   train_loss = 4.364\n",
      "Epoch   3 Batch    2/16   train_loss = 4.041\n",
      "Epoch   3 Batch   12/16   train_loss = 3.893\n",
      "Epoch   4 Batch    6/16   train_loss = 3.590\n",
      "Epoch   5 Batch    0/16   train_loss = 3.297\n",
      "Epoch   5 Batch   10/16   train_loss = 3.156\n",
      "Epoch   6 Batch    4/16   train_loss = 3.026\n",
      "Epoch   6 Batch   14/16   train_loss = 2.740\n",
      "Epoch   7 Batch    8/16   train_loss = 2.633\n",
      "Epoch   8 Batch    2/16   train_loss = 2.478\n",
      "Epoch   8 Batch   12/16   train_loss = 2.273\n",
      "Epoch   9 Batch    6/16   train_loss = 2.211\n",
      "Epoch  10 Batch    0/16   train_loss = 2.054\n",
      "Epoch  10 Batch   10/16   train_loss = 1.949\n",
      "Epoch  11 Batch    4/16   train_loss = 1.846\n",
      "Epoch  11 Batch   14/16   train_loss = 1.677\n",
      "Epoch  12 Batch    8/16   train_loss = 1.627\n",
      "Epoch  13 Batch    2/16   train_loss = 1.512\n",
      "Epoch  13 Batch   12/16   train_loss = 1.406\n",
      "Epoch  14 Batch    6/16   train_loss = 1.360\n",
      "Epoch  15 Batch    0/16   train_loss = 1.287\n",
      "Epoch  15 Batch   10/16   train_loss = 1.207\n",
      "Epoch  16 Batch    4/16   train_loss = 1.141\n",
      "Epoch  16 Batch   14/16   train_loss = 1.068\n",
      "Epoch  17 Batch    8/16   train_loss = 1.033\n",
      "Epoch  18 Batch    2/16   train_loss = 0.990\n",
      "Epoch  18 Batch   12/16   train_loss = 0.917\n",
      "Epoch  19 Batch    6/16   train_loss = 0.905\n",
      "Epoch  20 Batch    0/16   train_loss = 0.882\n",
      "Epoch  20 Batch   10/16   train_loss = 0.832\n",
      "Epoch  21 Batch    4/16   train_loss = 0.808\n",
      "Epoch  21 Batch   14/16   train_loss = 0.739\n",
      "Epoch  22 Batch    8/16   train_loss = 0.742\n",
      "Epoch  23 Batch    2/16   train_loss = 0.681\n",
      "Epoch  23 Batch   12/16   train_loss = 0.636\n",
      "Epoch  24 Batch    6/16   train_loss = 0.626\n",
      "Epoch  25 Batch    0/16   train_loss = 0.595\n",
      "Epoch  25 Batch   10/16   train_loss = 0.584\n",
      "Epoch  26 Batch    4/16   train_loss = 0.547\n",
      "Epoch  26 Batch   14/16   train_loss = 0.532\n",
      "Epoch  27 Batch    8/16   train_loss = 0.523\n",
      "Epoch  28 Batch    2/16   train_loss = 0.483\n",
      "Epoch  28 Batch   12/16   train_loss = 0.455\n",
      "Epoch  29 Batch    6/16   train_loss = 0.439\n",
      "Epoch  30 Batch    0/16   train_loss = 0.430\n",
      "Epoch  30 Batch   10/16   train_loss = 0.407\n",
      "Epoch  31 Batch    4/16   train_loss = 0.396\n",
      "Epoch  31 Batch   14/16   train_loss = 0.393\n",
      "Epoch  32 Batch    8/16   train_loss = 0.376\n",
      "Epoch  33 Batch    2/16   train_loss = 0.353\n",
      "Epoch  33 Batch   12/16   train_loss = 0.329\n",
      "Epoch  34 Batch    6/16   train_loss = 0.321\n",
      "Epoch  35 Batch    0/16   train_loss = 0.315\n",
      "Epoch  35 Batch   10/16   train_loss = 0.305\n",
      "Epoch  36 Batch    4/16   train_loss = 0.288\n",
      "Epoch  36 Batch   14/16   train_loss = 0.287\n",
      "Epoch  37 Batch    8/16   train_loss = 0.286\n",
      "Epoch  38 Batch    2/16   train_loss = 0.270\n",
      "Epoch  38 Batch   12/16   train_loss = 0.249\n",
      "Epoch  39 Batch    6/16   train_loss = 0.257\n",
      "Epoch  40 Batch    0/16   train_loss = 0.250\n",
      "Epoch  40 Batch   10/16   train_loss = 0.248\n",
      "Epoch  41 Batch    4/16   train_loss = 0.238\n",
      "Epoch  41 Batch   14/16   train_loss = 0.241\n",
      "Epoch  42 Batch    8/16   train_loss = 0.249\n",
      "Epoch  43 Batch    2/16   train_loss = 0.240\n",
      "Epoch  43 Batch   12/16   train_loss = 0.221\n",
      "Epoch  44 Batch    6/16   train_loss = 0.233\n",
      "Epoch  45 Batch    0/16   train_loss = 0.226\n",
      "Epoch  45 Batch   10/16   train_loss = 0.230\n",
      "Epoch  46 Batch    4/16   train_loss = 0.223\n",
      "Epoch  46 Batch   14/16   train_loss = 0.229\n",
      "Epoch  47 Batch    8/16   train_loss = 0.240\n",
      "Epoch  48 Batch    2/16   train_loss = 0.233\n",
      "Epoch  48 Batch   12/16   train_loss = 0.222\n",
      "Epoch  49 Batch    6/16   train_loss = 0.237\n",
      "Epoch  50 Batch    0/16   train_loss = 0.239\n",
      "Epoch  50 Batch   10/16   train_loss = 0.239\n",
      "Epoch  51 Batch    4/16   train_loss = 0.229\n",
      "Epoch  51 Batch   14/16   train_loss = 0.235\n",
      "Epoch  52 Batch    8/16   train_loss = 0.249\n",
      "Epoch  53 Batch    2/16   train_loss = 0.253\n",
      "Epoch  53 Batch   12/16   train_loss = 0.242\n",
      "Epoch  54 Batch    6/16   train_loss = 0.261\n",
      "Epoch  55 Batch    0/16   train_loss = 0.258\n",
      "Epoch  55 Batch   10/16   train_loss = 0.275\n",
      "Epoch  56 Batch    4/16   train_loss = 0.277\n",
      "Epoch  56 Batch   14/16   train_loss = 0.289\n",
      "Epoch  57 Batch    8/16   train_loss = 0.319\n",
      "Epoch  58 Batch    2/16   train_loss = 0.323\n",
      "Epoch  58 Batch   12/16   train_loss = 0.328\n",
      "Epoch  59 Batch    6/16   train_loss = 0.343\n",
      "Epoch  60 Batch    0/16   train_loss = 0.368\n",
      "Epoch  60 Batch   10/16   train_loss = 0.391\n",
      "Epoch  61 Batch    4/16   train_loss = 0.392\n",
      "Epoch  61 Batch   14/16   train_loss = 0.409\n",
      "Epoch  62 Batch    8/16   train_loss = 0.415\n",
      "Epoch  63 Batch    2/16   train_loss = 0.407\n",
      "Epoch  63 Batch   12/16   train_loss = 0.374\n",
      "Epoch  64 Batch    6/16   train_loss = 0.371\n",
      "Epoch  65 Batch    0/16   train_loss = 0.373\n",
      "Epoch  65 Batch   10/16   train_loss = 0.360\n",
      "Epoch  66 Batch    4/16   train_loss = 0.322\n",
      "Epoch  66 Batch   14/16   train_loss = 0.305\n",
      "Epoch  67 Batch    8/16   train_loss = 0.299\n",
      "Epoch  68 Batch    2/16   train_loss = 0.271\n",
      "Epoch  68 Batch   12/16   train_loss = 0.248\n",
      "Epoch  69 Batch    6/16   train_loss = 0.242\n",
      "Epoch  70 Batch    0/16   train_loss = 0.230\n",
      "Epoch  70 Batch   10/16   train_loss = 0.230\n",
      "Epoch  71 Batch    4/16   train_loss = 0.217\n",
      "Epoch  71 Batch   14/16   train_loss = 0.214\n",
      "Epoch  72 Batch    8/16   train_loss = 0.218\n",
      "Epoch  73 Batch    2/16   train_loss = 0.210\n",
      "Epoch  73 Batch   12/16   train_loss = 0.195\n",
      "Epoch  74 Batch    6/16   train_loss = 0.207\n",
      "Epoch  75 Batch    0/16   train_loss = 0.203\n",
      "Epoch  75 Batch   10/16   train_loss = 0.212\n",
      "Epoch  76 Batch    4/16   train_loss = 0.200\n",
      "Epoch  76 Batch   14/16   train_loss = 0.204\n",
      "Epoch  77 Batch    8/16   train_loss = 0.211\n",
      "Epoch  78 Batch    2/16   train_loss = 0.203\n",
      "Epoch  78 Batch   12/16   train_loss = 0.190\n",
      "Epoch  79 Batch    6/16   train_loss = 0.203\n",
      "Epoch  80 Batch    0/16   train_loss = 0.199\n",
      "Epoch  80 Batch   10/16   train_loss = 0.207\n",
      "Epoch  81 Batch    4/16   train_loss = 0.198\n",
      "Epoch  81 Batch   14/16   train_loss = 0.200\n",
      "Epoch  82 Batch    8/16   train_loss = 0.209\n",
      "Epoch  83 Batch    2/16   train_loss = 0.201\n",
      "Epoch  83 Batch   12/16   train_loss = 0.189\n",
      "Epoch  84 Batch    6/16   train_loss = 0.202\n",
      "Epoch  85 Batch    0/16   train_loss = 0.198\n",
      "Epoch  85 Batch   10/16   train_loss = 0.207\n",
      "Epoch  86 Batch    4/16   train_loss = 0.197\n",
      "Epoch  86 Batch   14/16   train_loss = 0.200\n",
      "Epoch  87 Batch    8/16   train_loss = 0.208\n",
      "Epoch  88 Batch    2/16   train_loss = 0.200\n",
      "Epoch  88 Batch   12/16   train_loss = 0.188\n",
      "Epoch  89 Batch    6/16   train_loss = 0.201\n",
      "Epoch  90 Batch    0/16   train_loss = 0.197\n",
      "Epoch  90 Batch   10/16   train_loss = 0.205\n",
      "Epoch  91 Batch    4/16   train_loss = 0.196\n",
      "Epoch  91 Batch   14/16   train_loss = 0.198\n",
      "Epoch  92 Batch    8/16   train_loss = 0.207\n",
      "Epoch  93 Batch    2/16   train_loss = 0.199\n",
      "Epoch  93 Batch   12/16   train_loss = 0.187\n",
      "Epoch  94 Batch    6/16   train_loss = 0.200\n",
      "Epoch  95 Batch    0/16   train_loss = 0.196\n",
      "Epoch  95 Batch   10/16   train_loss = 0.205\n",
      "Epoch  96 Batch    4/16   train_loss = 0.196\n",
      "Epoch  96 Batch   14/16   train_loss = 0.198\n",
      "Epoch  97 Batch    8/16   train_loss = 0.207\n",
      "Epoch  98 Batch    2/16   train_loss = 0.199\n",
      "Epoch  98 Batch   12/16   train_loss = 0.186\n",
      "Epoch  99 Batch    6/16   train_loss = 0.200\n",
      "Epoch 100 Batch    0/16   train_loss = 0.196\n",
      "Epoch 100 Batch   10/16   train_loss = 0.204\n",
      "Epoch 101 Batch    4/16   train_loss = 0.194\n",
      "Epoch 101 Batch   14/16   train_loss = 0.197\n",
      "Epoch 102 Batch    8/16   train_loss = 0.206\n",
      "Epoch 103 Batch    2/16   train_loss = 0.198\n",
      "Epoch 103 Batch   12/16   train_loss = 0.186\n",
      "Epoch 104 Batch    6/16   train_loss = 0.199\n",
      "Epoch 105 Batch    0/16   train_loss = 0.195\n",
      "Epoch 105 Batch   10/16   train_loss = 0.205\n",
      "Epoch 106 Batch    4/16   train_loss = 0.195\n",
      "Epoch 106 Batch   14/16   train_loss = 0.197\n",
      "Epoch 107 Batch    8/16   train_loss = 0.206\n",
      "Epoch 108 Batch    2/16   train_loss = 0.198\n",
      "Epoch 108 Batch   12/16   train_loss = 0.186\n",
      "Epoch 109 Batch    6/16   train_loss = 0.199\n",
      "Epoch 110 Batch    0/16   train_loss = 0.195\n",
      "Epoch 110 Batch   10/16   train_loss = 0.204\n",
      "Epoch 111 Batch    4/16   train_loss = 0.194\n",
      "Epoch 111 Batch   14/16   train_loss = 0.196\n",
      "Epoch 112 Batch    8/16   train_loss = 0.205\n",
      "Epoch 113 Batch    2/16   train_loss = 0.198\n",
      "Epoch 113 Batch   12/16   train_loss = 0.186\n",
      "Epoch 114 Batch    6/16   train_loss = 0.199\n",
      "Epoch 115 Batch    0/16   train_loss = 0.195\n",
      "Epoch 115 Batch   10/16   train_loss = 0.205\n",
      "Epoch 116 Batch    4/16   train_loss = 0.194\n",
      "Epoch 116 Batch   14/16   train_loss = 0.197\n",
      "Epoch 117 Batch    8/16   train_loss = 0.206\n",
      "Epoch 118 Batch    2/16   train_loss = 0.198\n",
      "Epoch 118 Batch   12/16   train_loss = 0.185\n",
      "Epoch 119 Batch    6/16   train_loss = 0.199\n",
      "Epoch 120 Batch    0/16   train_loss = 0.195\n",
      "Epoch 120 Batch   10/16   train_loss = 0.203\n",
      "Epoch 121 Batch    4/16   train_loss = 0.193\n",
      "Epoch 121 Batch   14/16   train_loss = 0.196\n",
      "Epoch 122 Batch    8/16   train_loss = 0.205\n",
      "Epoch 123 Batch    2/16   train_loss = 0.197\n",
      "Epoch 123 Batch   12/16   train_loss = 0.185\n",
      "Epoch 124 Batch    6/16   train_loss = 0.198\n",
      "Epoch 125 Batch    0/16   train_loss = 0.194\n",
      "Epoch 125 Batch   10/16   train_loss = 0.204\n",
      "Epoch 126 Batch    4/16   train_loss = 0.194\n",
      "Epoch 126 Batch   14/16   train_loss = 0.196\n",
      "Epoch 127 Batch    8/16   train_loss = 0.205\n",
      "Epoch 128 Batch    2/16   train_loss = 0.197\n",
      "Epoch 128 Batch   12/16   train_loss = 0.185\n",
      "Epoch 129 Batch    6/16   train_loss = 0.198\n",
      "Epoch 130 Batch    0/16   train_loss = 0.194\n",
      "Epoch 130 Batch   10/16   train_loss = 0.203\n",
      "Epoch 131 Batch    4/16   train_loss = 0.193\n",
      "Epoch 131 Batch   14/16   train_loss = 0.195\n",
      "Epoch 132 Batch    8/16   train_loss = 0.205\n",
      "Epoch 133 Batch    2/16   train_loss = 0.197\n",
      "Epoch 133 Batch   12/16   train_loss = 0.185\n",
      "Epoch 134 Batch    6/16   train_loss = 0.198\n",
      "Epoch 135 Batch    0/16   train_loss = 0.194\n",
      "Epoch 135 Batch   10/16   train_loss = 0.203\n",
      "Epoch 136 Batch    4/16   train_loss = 0.193\n",
      "Epoch 136 Batch   14/16   train_loss = 0.196\n",
      "Epoch 137 Batch    8/16   train_loss = 0.205\n",
      "Epoch 138 Batch    2/16   train_loss = 0.197\n",
      "Epoch 138 Batch   12/16   train_loss = 0.184\n",
      "Epoch 139 Batch    6/16   train_loss = 0.198\n",
      "Epoch 140 Batch    0/16   train_loss = 0.194\n",
      "Epoch 140 Batch   10/16   train_loss = 0.203\n",
      "Epoch 141 Batch    4/16   train_loss = 0.193\n",
      "Epoch 141 Batch   14/16   train_loss = 0.195\n",
      "Epoch 142 Batch    8/16   train_loss = 0.204\n",
      "Epoch 143 Batch    2/16   train_loss = 0.197\n",
      "Epoch 143 Batch   12/16   train_loss = 0.185\n",
      "Epoch 144 Batch    6/16   train_loss = 0.198\n",
      "Epoch 145 Batch    0/16   train_loss = 0.194\n",
      "Epoch 145 Batch   10/16   train_loss = 0.203\n",
      "Epoch 146 Batch    4/16   train_loss = 0.193\n",
      "Epoch 146 Batch   14/16   train_loss = 0.196\n",
      "Epoch 147 Batch    8/16   train_loss = 0.205\n",
      "Epoch 148 Batch    2/16   train_loss = 0.197\n",
      "Epoch 148 Batch   12/16   train_loss = 0.184\n",
      "Epoch 149 Batch    6/16   train_loss = 0.198\n",
      "Epoch 150 Batch    0/16   train_loss = 0.194\n",
      "Epoch 150 Batch   10/16   train_loss = 0.202\n",
      "Epoch 151 Batch    4/16   train_loss = 0.192\n",
      "Epoch 151 Batch   14/16   train_loss = 0.195\n",
      "Epoch 152 Batch    8/16   train_loss = 0.204\n",
      "Epoch 153 Batch    2/16   train_loss = 0.196\n",
      "Epoch 153 Batch   12/16   train_loss = 0.184\n",
      "Epoch 154 Batch    6/16   train_loss = 0.198\n",
      "Epoch 155 Batch    0/16   train_loss = 0.194\n",
      "Epoch 155 Batch   10/16   train_loss = 0.203\n",
      "Epoch 156 Batch    4/16   train_loss = 0.193\n",
      "Epoch 156 Batch   14/16   train_loss = 0.195\n",
      "Epoch 157 Batch    8/16   train_loss = 0.205\n",
      "Epoch 158 Batch    2/16   train_loss = 0.197\n",
      "Epoch 158 Batch   12/16   train_loss = 0.184\n",
      "Epoch 159 Batch    6/16   train_loss = 0.198\n",
      "Epoch 160 Batch    0/16   train_loss = 0.194\n",
      "Epoch 160 Batch   10/16   train_loss = 0.202\n",
      "Epoch 161 Batch    4/16   train_loss = 0.192\n",
      "Epoch 161 Batch   14/16   train_loss = 0.195\n",
      "Epoch 162 Batch    8/16   train_loss = 0.204\n",
      "Epoch 163 Batch    2/16   train_loss = 0.196\n",
      "Epoch 163 Batch   12/16   train_loss = 0.184\n",
      "Epoch 164 Batch    6/16   train_loss = 0.198\n",
      "Epoch 165 Batch    0/16   train_loss = 0.194\n",
      "Epoch 165 Batch   10/16   train_loss = 0.203\n",
      "Epoch 166 Batch    4/16   train_loss = 0.192\n",
      "Epoch 166 Batch   14/16   train_loss = 0.195\n",
      "Epoch 167 Batch    8/16   train_loss = 0.204\n",
      "Epoch 168 Batch    2/16   train_loss = 0.197\n",
      "Epoch 168 Batch   12/16   train_loss = 0.184\n",
      "Epoch 169 Batch    6/16   train_loss = 0.197\n",
      "Epoch 170 Batch    0/16   train_loss = 0.194\n",
      "Epoch 170 Batch   10/16   train_loss = 0.202\n",
      "Epoch 171 Batch    4/16   train_loss = 0.192\n",
      "Epoch 171 Batch   14/16   train_loss = 0.195\n",
      "Epoch 172 Batch    8/16   train_loss = 0.204\n",
      "Epoch 173 Batch    2/16   train_loss = 0.196\n",
      "Epoch 173 Batch   12/16   train_loss = 0.184\n",
      "Epoch 174 Batch    6/16   train_loss = 0.198\n",
      "Epoch 175 Batch    0/16   train_loss = 0.194\n",
      "Epoch 175 Batch   10/16   train_loss = 0.202\n",
      "Epoch 176 Batch    4/16   train_loss = 0.192\n",
      "Epoch 176 Batch   14/16   train_loss = 0.195\n",
      "Epoch 177 Batch    8/16   train_loss = 0.204\n",
      "Epoch 178 Batch    2/16   train_loss = 0.196\n",
      "Epoch 178 Batch   12/16   train_loss = 0.184\n",
      "Epoch 179 Batch    6/16   train_loss = 0.197\n",
      "Epoch 180 Batch    0/16   train_loss = 0.194\n",
      "Epoch 180 Batch   10/16   train_loss = 0.201\n",
      "Epoch 181 Batch    4/16   train_loss = 0.192\n",
      "Epoch 181 Batch   14/16   train_loss = 0.194\n",
      "Epoch 182 Batch    8/16   train_loss = 0.204\n",
      "Epoch 183 Batch    2/16   train_loss = 0.196\n",
      "Epoch 183 Batch   12/16   train_loss = 0.184\n",
      "Epoch 184 Batch    6/16   train_loss = 0.198\n",
      "Epoch 185 Batch    0/16   train_loss = 0.193\n",
      "Epoch 185 Batch   10/16   train_loss = 0.202\n",
      "Epoch 186 Batch    4/16   train_loss = 0.192\n",
      "Epoch 186 Batch   14/16   train_loss = 0.195\n",
      "Epoch 187 Batch    8/16   train_loss = 0.204\n",
      "Epoch 188 Batch    2/16   train_loss = 0.196\n",
      "Epoch 188 Batch   12/16   train_loss = 0.184\n",
      "Epoch 189 Batch    6/16   train_loss = 0.197\n",
      "Epoch 190 Batch    0/16   train_loss = 0.194\n",
      "Epoch 190 Batch   10/16   train_loss = 0.201\n",
      "Epoch 191 Batch    4/16   train_loss = 0.192\n",
      "Epoch 191 Batch   14/16   train_loss = 0.194\n",
      "Epoch 192 Batch    8/16   train_loss = 0.204\n",
      "Epoch 193 Batch    2/16   train_loss = 0.196\n",
      "Epoch 193 Batch   12/16   train_loss = 0.184\n",
      "Epoch 194 Batch    6/16   train_loss = 0.197\n",
      "Epoch 195 Batch    0/16   train_loss = 0.193\n",
      "Epoch 195 Batch   10/16   train_loss = 0.202\n",
      "Epoch 196 Batch    4/16   train_loss = 0.192\n",
      "Epoch 196 Batch   14/16   train_loss = 0.195\n",
      "Epoch 197 Batch    8/16   train_loss = 0.204\n",
      "Epoch 198 Batch    2/16   train_loss = 0.196\n",
      "Epoch 198 Batch   12/16   train_loss = 0.184\n",
      "Epoch 199 Batch    6/16   train_loss = 0.197\n",
      "Model Trained and Saved\n"
     ]
    }
   ],
   "source": [
    "\"\"\"\n",
    "DON'T MODIFY ANYTHING IN THIS CELL\n",
    "\"\"\"\n",
    "batches = get_batches(int_text, batch_size, seq_length)\n",
    "\n",
    "with tf.Session(graph=train_graph) as sess:\n",
    "    sess.run(tf.global_variables_initializer())\n",
    "\n",
    "    for epoch_i in range(num_epochs):\n",
    "        state = sess.run(initial_state, {input_text: batches[0][0]})\n",
    "\n",
    "        for batch_i, (x, y) in enumerate(batches):\n",
    "            feed = {\n",
    "                input_text: x,\n",
    "                targets: y,\n",
    "                initial_state: state,\n",
    "                lr: learning_rate}\n",
    "            train_loss, state, _ = sess.run([cost, final_state, train_op], feed)\n",
    "\n",
    "            # Show every <show_every_n_batches> batches\n",
    "            if (epoch_i * len(batches) + batch_i) % show_every_n_batches == 0:\n",
    "                print('Epoch {:>3} Batch {:>4}/{}   train_loss = {:.3f}'.format(\n",
    "                    epoch_i,\n",
    "                    batch_i,\n",
    "                    len(batches),\n",
    "                    train_loss))\n",
    "\n",
    "    # Save Model\n",
    "    saver = tf.train.Saver()\n",
    "    saver.save(sess, save_dir)\n",
    "    print('Model Trained and Saved')"
   ]
  },
  {
   "cell_type": "markdown",
   "metadata": {},
   "source": [
    "## Save Parameters\n",
    "Save `seq_length` and `save_dir` for generating a new TV script."
   ]
  },
  {
   "cell_type": "code",
   "execution_count": 23,
   "metadata": {
    "collapsed": true
   },
   "outputs": [],
   "source": [
    "\"\"\"\n",
    "DON'T MODIFY ANYTHING IN THIS CELL\n",
    "\"\"\"\n",
    "# Save parameters for checkpoint\n",
    "helper.save_params((seq_length, save_dir))"
   ]
  },
  {
   "cell_type": "markdown",
   "metadata": {},
   "source": [
    "# Checkpoint"
   ]
  },
  {
   "cell_type": "code",
   "execution_count": 24,
   "metadata": {
    "collapsed": true
   },
   "outputs": [],
   "source": [
    "\"\"\"\n",
    "DON'T MODIFY ANYTHING IN THIS CELL\n",
    "\"\"\"\n",
    "import tensorflow as tf\n",
    "import numpy as np\n",
    "import helper\n",
    "import problem_unittests as tests\n",
    "\n",
    "_, vocab_to_int, int_to_vocab, token_dict = helper.load_preprocess()\n",
    "seq_length, load_dir = helper.load_params()"
   ]
  },
  {
   "cell_type": "markdown",
   "metadata": {},
   "source": [
    "## Implement Generate Functions\n",
    "### Get Tensors\n",
    "Get tensors from `loaded_graph` using the function [`get_tensor_by_name()`](https://www.tensorflow.org/api_docs/python/tf/Graph#get_tensor_by_name).  Get the tensors using the following names:\n",
    "- \"input:0\"\n",
    "- \"initial_state:0\"\n",
    "- \"final_state:0\"\n",
    "- \"probs:0\"\n",
    "\n",
    "Return the tensors in the following tuple `(InputTensor, InitialStateTensor, FinalStateTensor, ProbsTensor)` "
   ]
  },
  {
   "cell_type": "code",
   "execution_count": 1,
   "metadata": {},
   "outputs": [
    {
     "ename": "NameError",
     "evalue": "name 'tests' is not defined",
     "output_type": "error",
     "traceback": [
      "\u001b[0;31m---------------------------------------------------------------------------\u001b[0m",
      "\u001b[0;31mNameError\u001b[0m                                 Traceback (most recent call last)",
      "\u001b[0;32m<ipython-input-1-982e023dbeb9>\u001b[0m in \u001b[0;36m<module>\u001b[0;34m()\u001b[0m\n\u001b[1;32m     16\u001b[0m \u001b[0mDON\u001b[0m\u001b[0;31m'\u001b[0m\u001b[0mT\u001b[0m \u001b[0mMODIFY\u001b[0m \u001b[0mANYTHING\u001b[0m \u001b[0mIN\u001b[0m \u001b[0mTHIS\u001b[0m \u001b[0mCELL\u001b[0m \u001b[0mTHAT\u001b[0m \u001b[0mIS\u001b[0m \u001b[0mBELOW\u001b[0m \u001b[0mTHIS\u001b[0m \u001b[0mLINE\u001b[0m\u001b[0;34m\u001b[0m\u001b[0m\n\u001b[1;32m     17\u001b[0m \"\"\"\n\u001b[0;32m---> 18\u001b[0;31m \u001b[0mtests\u001b[0m\u001b[0;34m.\u001b[0m\u001b[0mtest_get_tensors\u001b[0m\u001b[0;34m(\u001b[0m\u001b[0mget_tensors\u001b[0m\u001b[0;34m)\u001b[0m\u001b[0;34m\u001b[0m\u001b[0m\n\u001b[0m",
      "\u001b[0;31mNameError\u001b[0m: name 'tests' is not defined"
     ]
    }
   ],
   "source": [
    "def get_tensors(loaded_graph):\n",
    "    \"\"\"\n",
    "    Get input, initial state, final state, and probabilities tensor from <loaded_graph>\n",
    "    :param loaded_graph: TensorFlow graph loaded from file\n",
    "    :return: Tuple (InputTensor, InitialStateTensor, FinalStateTensor, ProbsTensor)\n",
    "    \"\"\"\n",
    "    # TODO: Implement Function\n",
    "    inputs = loaded_graph.get_tensor_by_name(\"input:0\")\n",
    "    initial_state = loaded_graph.get_tensor_by_name(\"initial_state:0\")\n",
    "    final_state = loaded_graph.get_tensor_by_name(\"final_state:0\")\n",
    "    probs = loaded_graph.get_tensor_by_name(\"probs:0\")\n",
    "    return inputs, initial_state, final_state, probs\n",
    "\n",
    "\n",
    "\"\"\"\n",
    "DON'T MODIFY ANYTHING IN THIS CELL THAT IS BELOW THIS LINE\n",
    "\"\"\"\n",
    "tests.test_get_tensors(get_tensors)"
   ]
  },
  {
   "cell_type": "markdown",
   "metadata": {},
   "source": [
    "### Choose Word\n",
    "Implement the `pick_word()` function to select the next word using `probabilities`."
   ]
  },
  {
   "cell_type": "code",
   "execution_count": 3,
   "metadata": {},
   "outputs": [
    {
     "ename": "NameError",
     "evalue": "name 'tests' is not defined",
     "output_type": "error",
     "traceback": [
      "\u001b[0;31m---------------------------------------------------------------------------\u001b[0m",
      "\u001b[0;31mNameError\u001b[0m                                 Traceback (most recent call last)",
      "\u001b[0;32m<ipython-input-3-8234aaf3d91e>\u001b[0m in \u001b[0;36m<module>\u001b[0;34m()\u001b[0m\n\u001b[1;32m     21\u001b[0m \u001b[0mDON\u001b[0m\u001b[0;31m'\u001b[0m\u001b[0mT\u001b[0m \u001b[0mMODIFY\u001b[0m \u001b[0mANYTHING\u001b[0m \u001b[0mIN\u001b[0m \u001b[0mTHIS\u001b[0m \u001b[0mCELL\u001b[0m \u001b[0mTHAT\u001b[0m \u001b[0mIS\u001b[0m \u001b[0mBELOW\u001b[0m \u001b[0mTHIS\u001b[0m \u001b[0mLINE\u001b[0m\u001b[0;34m\u001b[0m\u001b[0m\n\u001b[1;32m     22\u001b[0m \"\"\"\n\u001b[0;32m---> 23\u001b[0;31m \u001b[0mtests\u001b[0m\u001b[0;34m.\u001b[0m\u001b[0mtest_pick_word\u001b[0m\u001b[0;34m(\u001b[0m\u001b[0mpick_word\u001b[0m\u001b[0;34m)\u001b[0m\u001b[0;34m\u001b[0m\u001b[0m\n\u001b[0m",
      "\u001b[0;31mNameError\u001b[0m: name 'tests' is not defined"
     ]
    }
   ],
   "source": [
    "def pick_word(probabilities, int_to_vocab):\n",
    "    \"\"\"\n",
    "    Pick the next word in the generated text\n",
    "    :param probabilities: Probabilites of the next word\n",
    "    :param int_to_vocab: Dictionary of word ids as the keys and words as the values\n",
    "    :return: String of the predicted word\n",
    "    \"\"\"\n",
    "    # TODO: Implement Function\n",
    "    #Makes a cumulative sum of the probability list\n",
    "    t = np.cumsum(probabilities)\n",
    "    # Select random float from 0 to 1.\n",
    "    rand_s = np.sum(probabilities) * np.random.rand(1)\n",
    "\n",
    "    # Select a random word from the list using the probability    distribution\n",
    "    pred_word = int_to_vocab[int(np.searchsorted(t, rand_s))]\n",
    "\n",
    "    return pred_word\n",
    "\n",
    "\n",
    "\"\"\"\n",
    "DON'T MODIFY ANYTHING IN THIS CELL THAT IS BELOW THIS LINE\n",
    "\"\"\"\n",
    "tests.test_pick_word(pick_word)"
   ]
  },
  {
   "cell_type": "markdown",
   "metadata": {},
   "source": [
    "## Generate TV Script\n",
    "This will generate the TV script for you.  Set `gen_length` to the length of TV script you want to generate."
   ]
  },
  {
   "cell_type": "code",
   "execution_count": 27,
   "metadata": {},
   "outputs": [
    {
     "ename": "TypeError",
     "evalue": "Cannot interpret feed_dict key as Tensor: Can not convert a NoneType into a Tensor.",
     "output_type": "error",
     "traceback": [
      "\u001b[0;31m---------------------------------------------------------------------------\u001b[0m",
      "\u001b[0;31mTypeError\u001b[0m                                 Traceback (most recent call last)",
      "\u001b[0;32m/home/samwit/anaconda3/envs/tf101/lib/python3.5/site-packages/tensorflow/python/client/session.py\u001b[0m in \u001b[0;36m_run\u001b[0;34m(self, handle, fetches, feed_dict, options, run_metadata)\u001b[0m\n\u001b[1;32m    918\u001b[0m             subfeed_t = self.graph.as_graph_element(subfeed, allow_tensor=True,\n\u001b[0;32m--> 919\u001b[0;31m                                                     allow_operation=False)\n\u001b[0m\u001b[1;32m    920\u001b[0m           \u001b[0;32mexcept\u001b[0m \u001b[0mException\u001b[0m \u001b[0;32mas\u001b[0m \u001b[0me\u001b[0m\u001b[0;34m:\u001b[0m\u001b[0;34m\u001b[0m\u001b[0m\n",
      "\u001b[0;32m/home/samwit/anaconda3/envs/tf101/lib/python3.5/site-packages/tensorflow/python/framework/ops.py\u001b[0m in \u001b[0;36mas_graph_element\u001b[0;34m(self, obj, allow_tensor, allow_operation)\u001b[0m\n\u001b[1;32m   2404\u001b[0m     \u001b[0;32mwith\u001b[0m \u001b[0mself\u001b[0m\u001b[0;34m.\u001b[0m\u001b[0m_lock\u001b[0m\u001b[0;34m:\u001b[0m\u001b[0;34m\u001b[0m\u001b[0m\n\u001b[0;32m-> 2405\u001b[0;31m       \u001b[0;32mreturn\u001b[0m \u001b[0mself\u001b[0m\u001b[0;34m.\u001b[0m\u001b[0m_as_graph_element_locked\u001b[0m\u001b[0;34m(\u001b[0m\u001b[0mobj\u001b[0m\u001b[0;34m,\u001b[0m \u001b[0mallow_tensor\u001b[0m\u001b[0;34m,\u001b[0m \u001b[0mallow_operation\u001b[0m\u001b[0;34m)\u001b[0m\u001b[0;34m\u001b[0m\u001b[0m\n\u001b[0m\u001b[1;32m   2406\u001b[0m \u001b[0;34m\u001b[0m\u001b[0m\n",
      "\u001b[0;32m/home/samwit/anaconda3/envs/tf101/lib/python3.5/site-packages/tensorflow/python/framework/ops.py\u001b[0m in \u001b[0;36m_as_graph_element_locked\u001b[0;34m(self, obj, allow_tensor, allow_operation)\u001b[0m\n\u001b[1;32m   2493\u001b[0m       raise TypeError(\"Can not convert a %s into a %s.\"\n\u001b[0;32m-> 2494\u001b[0;31m                       % (type(obj).__name__, types_str))\n\u001b[0m\u001b[1;32m   2495\u001b[0m \u001b[0;34m\u001b[0m\u001b[0m\n",
      "\u001b[0;31mTypeError\u001b[0m: Can not convert a NoneType into a Tensor.",
      "\nDuring handling of the above exception, another exception occurred:\n",
      "\u001b[0;31mTypeError\u001b[0m                                 Traceback (most recent call last)",
      "\u001b[0;32m<ipython-input-27-1db8abe06e71>\u001b[0m in \u001b[0;36m<module>\u001b[0;34m()\u001b[0m\n\u001b[1;32m     17\u001b[0m     \u001b[0;31m# Sentences generation setup\u001b[0m\u001b[0;34m\u001b[0m\u001b[0;34m\u001b[0m\u001b[0m\n\u001b[1;32m     18\u001b[0m     \u001b[0mgen_sentences\u001b[0m \u001b[0;34m=\u001b[0m \u001b[0;34m[\u001b[0m\u001b[0mprime_word\u001b[0m \u001b[0;34m+\u001b[0m \u001b[0;34m':'\u001b[0m\u001b[0;34m]\u001b[0m\u001b[0;34m\u001b[0m\u001b[0m\n\u001b[0;32m---> 19\u001b[0;31m     \u001b[0mprev_state\u001b[0m \u001b[0;34m=\u001b[0m \u001b[0msess\u001b[0m\u001b[0;34m.\u001b[0m\u001b[0mrun\u001b[0m\u001b[0;34m(\u001b[0m\u001b[0minitial_state\u001b[0m\u001b[0;34m,\u001b[0m \u001b[0;34m{\u001b[0m\u001b[0minput_text\u001b[0m\u001b[0;34m:\u001b[0m \u001b[0mnp\u001b[0m\u001b[0;34m.\u001b[0m\u001b[0marray\u001b[0m\u001b[0;34m(\u001b[0m\u001b[0;34m[\u001b[0m\u001b[0;34m[\u001b[0m\u001b[0;36m1\u001b[0m\u001b[0;34m]\u001b[0m\u001b[0;34m]\u001b[0m\u001b[0;34m)\u001b[0m\u001b[0;34m}\u001b[0m\u001b[0;34m)\u001b[0m\u001b[0;34m\u001b[0m\u001b[0m\n\u001b[0m\u001b[1;32m     20\u001b[0m \u001b[0;34m\u001b[0m\u001b[0m\n\u001b[1;32m     21\u001b[0m     \u001b[0;31m# Generate sentences\u001b[0m\u001b[0;34m\u001b[0m\u001b[0;34m\u001b[0m\u001b[0m\n",
      "\u001b[0;32m/home/samwit/anaconda3/envs/tf101/lib/python3.5/site-packages/tensorflow/python/client/session.py\u001b[0m in \u001b[0;36mrun\u001b[0;34m(self, fetches, feed_dict, options, run_metadata)\u001b[0m\n\u001b[1;32m    765\u001b[0m     \u001b[0;32mtry\u001b[0m\u001b[0;34m:\u001b[0m\u001b[0;34m\u001b[0m\u001b[0m\n\u001b[1;32m    766\u001b[0m       result = self._run(None, fetches, feed_dict, options_ptr,\n\u001b[0;32m--> 767\u001b[0;31m                          run_metadata_ptr)\n\u001b[0m\u001b[1;32m    768\u001b[0m       \u001b[0;32mif\u001b[0m \u001b[0mrun_metadata\u001b[0m\u001b[0;34m:\u001b[0m\u001b[0;34m\u001b[0m\u001b[0m\n\u001b[1;32m    769\u001b[0m         \u001b[0mproto_data\u001b[0m \u001b[0;34m=\u001b[0m \u001b[0mtf_session\u001b[0m\u001b[0;34m.\u001b[0m\u001b[0mTF_GetBuffer\u001b[0m\u001b[0;34m(\u001b[0m\u001b[0mrun_metadata_ptr\u001b[0m\u001b[0;34m)\u001b[0m\u001b[0;34m\u001b[0m\u001b[0m\n",
      "\u001b[0;32m/home/samwit/anaconda3/envs/tf101/lib/python3.5/site-packages/tensorflow/python/client/session.py\u001b[0m in \u001b[0;36m_run\u001b[0;34m(self, handle, fetches, feed_dict, options, run_metadata)\u001b[0m\n\u001b[1;32m    920\u001b[0m           \u001b[0;32mexcept\u001b[0m \u001b[0mException\u001b[0m \u001b[0;32mas\u001b[0m \u001b[0me\u001b[0m\u001b[0;34m:\u001b[0m\u001b[0;34m\u001b[0m\u001b[0m\n\u001b[1;32m    921\u001b[0m             raise TypeError('Cannot interpret feed_dict key as Tensor: '\n\u001b[0;32m--> 922\u001b[0;31m                             + e.args[0])\n\u001b[0m\u001b[1;32m    923\u001b[0m \u001b[0;34m\u001b[0m\u001b[0m\n\u001b[1;32m    924\u001b[0m           \u001b[0;32mif\u001b[0m \u001b[0misinstance\u001b[0m\u001b[0;34m(\u001b[0m\u001b[0msubfeed_val\u001b[0m\u001b[0;34m,\u001b[0m \u001b[0mops\u001b[0m\u001b[0;34m.\u001b[0m\u001b[0mTensor\u001b[0m\u001b[0;34m)\u001b[0m\u001b[0;34m:\u001b[0m\u001b[0;34m\u001b[0m\u001b[0m\n",
      "\u001b[0;31mTypeError\u001b[0m: Cannot interpret feed_dict key as Tensor: Can not convert a NoneType into a Tensor."
     ]
    }
   ],
   "source": [
    "gen_length = 200\n",
    "# homer_simpson, moe_szyslak, or Barney_Gumble\n",
    "prime_word = 'moe_szyslak'\n",
    "\n",
    "\"\"\"\n",
    "DON'T MODIFY ANYTHING IN THIS CELL THAT IS BELOW THIS LINE\n",
    "\"\"\"\n",
    "loaded_graph = tf.Graph()\n",
    "with tf.Session(graph=loaded_graph) as sess:\n",
    "    # Load saved model\n",
    "    loader = tf.train.import_meta_graph(load_dir + '.meta')\n",
    "    loader.restore(sess, load_dir)\n",
    "\n",
    "    # Get Tensors from loaded model\n",
    "    input_text, initial_state, final_state, probs = get_tensors(loaded_graph)\n",
    "\n",
    "    # Sentences generation setup\n",
    "    gen_sentences = [prime_word + ':']\n",
    "    prev_state = sess.run(initial_state, {input_text: np.array([[1]])})\n",
    "\n",
    "    # Generate sentences\n",
    "    for n in range(gen_length):\n",
    "        # Dynamic Input\n",
    "        dyn_input = [[vocab_to_int[word] for word in gen_sentences[-seq_length:]]]\n",
    "        dyn_seq_length = len(dyn_input[0])\n",
    "\n",
    "        # Get Prediction\n",
    "        probabilities, prev_state = sess.run(\n",
    "            [probs, final_state],\n",
    "            {input_text: dyn_input, initial_state: prev_state})\n",
    "        \n",
    "        pred_word = pick_word(probabilities[dyn_seq_length-1], int_to_vocab)\n",
    "\n",
    "        gen_sentences.append(pred_word)\n",
    "    \n",
    "    # Remove tokens\n",
    "    tv_script = ' '.join(gen_sentences)\n",
    "    for key, token in token_dict.items():\n",
    "        ending = ' ' if key in ['\\n', '(', '\"'] else ''\n",
    "        tv_script = tv_script.replace(' ' + token.lower(), key)\n",
    "    tv_script = tv_script.replace('\\n ', '\\n')\n",
    "    tv_script = tv_script.replace('( ', '(')\n",
    "        \n",
    "    print(tv_script)"
   ]
  },
  {
   "cell_type": "markdown",
   "metadata": {},
   "source": [
    "# The TV Script is Nonsensical\n",
    "It's ok if the TV script doesn't make any sense.  We trained on less than a megabyte of text.  In order to get good results, you'll have to use a smaller vocabulary or get more data.  Luckly there's more data!  As we mentioned in the begging of this project, this is a subset of [another dataset](https://www.kaggle.com/wcukierski/the-simpsons-by-the-data).  We didn't have you train on all the data, because that would take too long.  However, you are free to train your neural network on all the data.  After you complete the project, of course.\n",
    "# Submitting This Project\n",
    "When submitting this project, make sure to run all the cells before saving the notebook. Save the notebook file as \"dlnd_tv_script_generation.ipynb\" and save it as a HTML file under \"File\" -> \"Download as\". Include the \"helper.py\" and \"problem_unittests.py\" files in your submission."
   ]
  }
 ],
 "metadata": {
  "kernelspec": {
   "display_name": "Python 3",
   "language": "python",
   "name": "python3"
  },
  "language_info": {
   "codemirror_mode": {
    "name": "ipython",
    "version": 3
   },
   "file_extension": ".py",
   "mimetype": "text/x-python",
   "name": "python",
   "nbconvert_exporter": "python",
   "pygments_lexer": "ipython3",
   "version": "3.5.2"
  }
 },
 "nbformat": 4,
 "nbformat_minor": 1
}
